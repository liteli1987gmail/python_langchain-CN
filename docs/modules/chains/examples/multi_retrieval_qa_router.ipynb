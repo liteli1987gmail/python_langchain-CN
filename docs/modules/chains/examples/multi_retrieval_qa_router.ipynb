{
 "cells": [
  {
   "cell_type": "markdown",
   "id": "782ffcf1",
   "metadata": {},
   "source": [
    "# Router Chains: Selecting from multiple prompts with MultiRetrievalQAChain\n",
    "\n",
    "This notebook demonstrates how to use the `RouterChain` paradigm to create a chain that dynamically selects which Retrieval system to use. Specifically we show how to use the `MultiRetrievalQAChain` to create a question-answering chain that selects the retrieval QA chain which is most relevant for a given question, and then answers the question using it."
   ]
  },
  {
   "cell_type": "code",
   "execution_count": 1,
   "id": "b6aeec07",
   "metadata": {},
   "outputs": [],
   "source": [
    "from langchain.chains.router import MultiRetrievalQAChain\n",
    "from langchain.llms import OpenAI"
   ]
  },
  {
   "cell_type": "code",
   "execution_count": 2,
   "id": "3c42f051",
   "metadata": {},
   "outputs": [],
   "source": [
    "from langchain.embeddings import OpenAIEmbeddings\n",
    "from langchain.document_loaders import TextLoader\n",
    "from langchain.vectorstores import FAISS\n",
    "\n",
    "sou_docs = TextLoader('../../state_of_the_union.txt').load_and_split()\n",
    "sou_retriever = FAISS.from_documents(sou_docs, OpenAIEmbeddings()).as_retriever()\n",
    "\n",
    "pg_docs = TextLoader('../../paul_graham_essay.txt').load_and_split()\n",
    "pg_retriever = FAISS.from_documents(pg_docs, OpenAIEmbeddings()).as_retriever()\n",
    "\n",
    "personal_texts = [\n",
    "    \"I love apple pie\",\n",
    "    \"My favorite color is fuchsia\",\n",
    "    \"My dream is to become a professional dancer\",\n",
    "    \"I broke my arm when I was 12\",\n",
    "    \"My parents are from Peru\",\n",
    "]\n",
    "personal_retriever = FAISS.from_texts(personal_texts, OpenAIEmbeddings()).as_retriever()\n"
   ]
  },
  {
   "cell_type": "code",
   "execution_count": 3,
   "id": "783d6bcd",
   "metadata": {},
   "outputs": [],
   "source": [
    "retriever_infos = [\n",
    "    {\n",
    "        \"name\": \"state of the union\", \n",
    "        \"description\": \"Good for answering questions about the 2023 State of the Union address\", \n",
    "        \"retriever\": sou_retriever\n",
    "    },\n",
    "    {\n",
    "        \"name\": \"pg essay\", \n",
    "        \"description\": \"Good for answer quesitons about Paul Graham's essay on his career\", \n",
    "        \"retriever\": pg_retriever\n",
    "    },\n",
    "    {\n",
    "        \"name\": \"personal\", \n",
    "        \"description\": \"Good for answering questions about me\", \n",
    "        \"retriever\": personal_retriever\n",
    "    }\n",
    "]"
   ]
  },
  {
   "cell_type": "code",
   "execution_count": 4,
   "id": "5b671ac5",
   "metadata": {},
   "outputs": [],
   "source": [
    "chain = MultiRetrievalQAChain.from_retrievers(OpenAI(), retriever_infos, verbose=True)"
   ]
  },
  {
   "cell_type": "code",
   "execution_count": 5,
   "id": "7db5814f",
   "metadata": {},
   "outputs": [
    {
     "name": "stdout",
     "output_type": "stream",
     "text": [
      "\n",
      "\n",
      "\u001b[1m> Entering new MultiRetrievalQAChain chain...\u001b[0m\n",
      "state of the union: {'query': 'What did the president say about the economy in the 2023 State of the Union address?'}\n",
      "\u001b[1m> Finished chain.\u001b[0m\n",
      " The president said that the economy was stronger than it had been a year prior, and that the American Rescue Plan helped create record job growth and fuel economic relief for millions of Americans. He also proposed a plan to fight inflation and lower costs for families, including cutting the cost of prescription drugs and energy, providing investments and tax credits for energy efficiency, and increasing access to child care and Pre-K.\n"
     ]
    }
   ],
   "source": [
    "print(chain.run(\"What did the president say about the economy?\"))"
   ]
  },
  {
   "cell_type": "code",
   "execution_count": 6,
   "id": "bbcdbe82",
   "metadata": {},
   "outputs": [
    {
     "name": "stdout",
     "output_type": "stream",
     "text": [
      "\n",
      "\n",
      "\u001b[1m> Entering new MultiRetrievalQAChain chain...\u001b[0m\n",
      "pg essay: {'query': 'What is something Paul Graham regrets about his work?'}\n",
      "\u001b[1m> Finished chain.\u001b[0m\n",
      " Paul Graham regrets that he did not take a vacation after selling his company, instead of immediately starting to paint.\n"
     ]
    }
   ],
   "source": [
    "print(chain.run(\"What is something Paul Graham regrets about his work?\"))"
   ]
  },
  {
   "cell_type": "code",
   "execution_count": 7,
   "id": "37c88a27",
   "metadata": {},
   "outputs": [
    {
     "name": "stdout",
     "output_type": "stream",
     "text": [
      "\n",
      "\n",
      "\u001b[1m> Entering new MultiRetrievalQAChain chain...\u001b[0m\n",
      "personal: {'query': 'What is my background?'}\n",
      "\u001b[1m> Finished chain.\u001b[0m\n",
      " Your background is Peruvian.\n"
     ]
    }
   ],
   "source": [
    "print(chain.run(\"What is my background?\"))"
   ]
  },
  {
   "cell_type": "code",
   "execution_count": 8,
   "id": "de8519b2",
   "metadata": {},
   "outputs": [
    {
     "name": "stdout",
     "output_type": "stream",
     "text": [
      "\n",
      "\n",
      "\u001b[1m> Entering new MultiRetrievalQAChain chain...\u001b[0m\n",
      "None: {'query': 'What year was the Internet created in?'}\n",
      "\u001b[1m> Finished chain.\u001b[0m\n",
      "The Internet was created in 1969 through a project called ARPANET, which was funded by the United States Department of Defense. However, the World Wide Web, which is often confused with the Internet, was created in 1989 by British computer scientist Tim Berners-Lee.\n"
     ]
    }
   ],
   "source": [
    "print(chain.run(\"What year was the Internet created in?\"))"
   ]
  },
  {
   "cell_type": "code",
   "execution_count": null,
   "id": "e50a0227",
   "metadata": {},
   "outputs": [],
   "source": []
  }
 ],
 "metadata": {
  "kernelspec": {
   "display_name": "venv",
   "language": "python",
   "name": "venv"
  },
  "language_info": {
   "codemirror_mode": {
    "name": "ipython",
    "version": 3
   },
   "file_extension": ".py",
   "mimetype": "text/x-python",
   "name": "python",
   "nbconvert_exporter": "python",
   "pygments_lexer": "ipython3",
   "version": "3.11.3"
  }
 },
 "nbformat": 4,
 "nbformat_minor": 5
}
