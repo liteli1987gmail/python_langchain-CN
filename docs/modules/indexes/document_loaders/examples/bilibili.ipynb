{
 "cells": [
  {
   "cell_type": "markdown",
   "id": "66a7777e",
   "metadata": {},
   "source": [
    "# Bilibili\n",
    "\n",
    "This loader utilizes the `bilibili-api` to fetch the text transcript from Bilibili, one of the most beloved long-form video sites in China.\n",
    "\n",
    "With this BiliBiliLoader, users can easily obtain the transcript of their desired video content on the platform."
   ]
  },
  {
   "cell_type": "code",
   "execution_count": 11,
   "id": "9ec8a3b3",
   "metadata": {},
   "outputs": [],
   "source": [
    "from langchain.document_loaders.bilibili import BiliBiliLoader"
   ]
  },
  {
   "cell_type": "code",
   "execution_count": 12,
   "id": "43128d8d",
   "metadata": {},
   "outputs": [],
   "source": [
    "#!pip install bilibili-api"
   ]
  },
  {
   "cell_type": "code",
   "execution_count": 13,
   "id": "35d6809a",
   "metadata": {
    "pycharm": {
     "name": "#%%\n"
    }
   },
   "outputs": [],
   "source": [
    "loader = BiliBiliLoader(\n",
    "    [\"https://www.bilibili.com/video/BV1xt411o7Xu/\"]\n",
    ")"
   ]
  },
  {
   "cell_type": "code",
   "execution_count": null,
   "outputs": [],
   "source": [
    "loader.load()"
   ],
   "metadata": {
    "collapsed": false,
    "pycharm": {
     "name": "#%%\n"
    }
   }
  }
 ],
 "metadata": {
  "kernelspec": {
   "display_name": "Python 3 (ipykernel)",
   "language": "python",
   "name": "python3"
  },
  "language_info": {
   "codemirror_mode": {
    "name": "ipython",
    "version": 3
   },
   "file_extension": ".py",
   "mimetype": "text/x-python",
   "name": "python",
   "nbconvert_exporter": "python",
   "pygments_lexer": "ipython3",
   "version": "3.10.9"
  }
 },
 "nbformat": 4,
 "nbformat_minor": 5
}