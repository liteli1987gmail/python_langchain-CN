{
 "cells": [
  {
   "cell_type": "markdown",
   "id": "959300d4",
   "metadata": {},
   "source": [
    "# Hugging Face Hub\n",
    "\n",
    "The [Hugging Face Hub](https://huggingface.co/docs/hub/index) is a platform with over 120k models, 20k datasets, and 50k demo apps (Spaces), all open source and publicly available, in an online platform where people can easily collaborate and build ML together.\n",
    "\n",
    "This example showcases how to connect to the Hugging Face Hub."
   ]
  },
  {
   "cell_type": "markdown",
   "id": "4c1b8450-5eaf-4d34-8341-2d785448a1ff",
   "metadata": {
    "tags": []
   },
   "source": [
    "To use, you should have the ``huggingface_hub`` python [package installed](https://huggingface.co/docs/huggingface_hub/installation)."
   ]
  },
  {
   "cell_type": "code",
   "execution_count": null,
   "id": "d772b637-de00-4663-bd77-9bc96d798db2",
   "metadata": {
    "tags": []
   },
   "outputs": [],
   "source": [
    "!pip install huggingface_hub > /dev/null"
   ]
  },
  {
   "cell_type": "code",
   "execution_count": null,
   "id": "d597a792-354c-4ca5-b483-5965eec5d63d",
   "metadata": {},
   "outputs": [],
   "source": [
    "# get a token: https://huggingface.co/docs/api-inference/quicktour#get-your-api-token\n",
    "\n",
    "from getpass import getpass\n",
    "\n",
    "HUGGINGFACEHUB_API_TOKEN = getpass()"
   ]
  },
  {
   "cell_type": "code",
   "execution_count": null,
   "id": "b8c5b88c-e4b8-4d0d-9a35-6e8f106452c2",
   "metadata": {},
   "outputs": [],
   "source": [
    "import os\n",
    "os.environ[\"HUGGINGFACEHUB_API_TOKEN\"] = HUGGINGFACEHUB_API_TOKEN"
   ]
  },
  {
   "cell_type": "markdown",
   "id": "84dd44c1-c428-41f3-a911-520281386c94",
   "metadata": {},
   "source": [
    "**Select a Model**"
   ]
  },
  {
   "cell_type": "code",
   "execution_count": null,
   "id": "39c7eeac-01c4-486b-9480-e828a9e73e78",
   "metadata": {
    "tags": []
   },
   "outputs": [],
   "source": [
    "from langchain import HuggingFaceHub\n",
    "\n",
    "repo_id = \"google/flan-t5-xl\" # See https://huggingface.co/models?pipeline_tag=text-generation&sort=downloads for some other options\n",
    "\n",
    "llm = HuggingFaceHub(repo_id=repo_id, model_kwargs={\"temperature\":0, \"max_length\":64})"
   ]
  },
  {
   "cell_type": "code",
   "execution_count": null,
   "id": "3acf0069",
   "metadata": {},
   "outputs": [],
   "source": [
    "from langchain import PromptTemplate, LLMChain\n",
    "\n",
    "template = \"\"\"Question: {question}\n",
    "\n",
    "Answer: Let's think step by step.\"\"\"\n",
    "prompt = PromptTemplate(template=template, input_variables=[\"question\"])\n",
    "llm_chain = LLMChain(prompt=prompt, llm=llm)\n",
    "\n",
    "question = \"Who won the FIFA World Cup in the year 1994? \"\n",
    "\n",
    "print(llm_chain.run(question))"
   ]
  },
  {
   "cell_type": "markdown",
   "id": "ddaa06cf-95ec-48ce-b0ab-d892a7909693",
   "metadata": {},
   "source": [
    "## Examples\n",
    "\n",
    "Below are some examples of models you can access through the Hugging Face Hub integration."
   ]
  },
  {
   "cell_type": "markdown",
   "id": "4fa9337e-ccb5-4c52-9b7c-1653148bc256",
   "metadata": {},
   "source": [
    "### StableLM, by Stability AI\n",
    "\n",
    "See [Stability AI's](https://huggingface.co/stabilityai) organization page for a list of available models."
   ]
  },
  {
   "cell_type": "code",
   "execution_count": null,
   "id": "36a1ce01-bd46-451f-8ee6-61c8f4bd665a",
   "metadata": {},
   "outputs": [],
   "source": [
    "repo_id = \"stabilityai/stablelm-tuned-alpha-3b\"\n",
    "# Others include stabilityai/stablelm-base-alpha-3b\n",
    "# as well as 7B parameter versions"
   ]
  },
  {
   "cell_type": "code",
   "execution_count": null,
   "id": "b5654cea-60b0-4f40-ab34-06ba1eca810d",
   "metadata": {},
   "outputs": [],
   "source": [
    "llm = HuggingFaceHub(repo_id=repo_id, model_kwargs={\"temperature\":0, \"max_length\":64})"
   ]
  },
  {
   "cell_type": "code",
   "execution_count": null,
   "id": "2f19d0dc-c987-433f-a8d6-b1214e8ee067",
   "metadata": {},
   "outputs": [],
   "source": [
    "# Reuse the prompt and question from above.\n",
    "llm_chain = LLMChain(prompt=prompt, llm=llm)\n",
    "print(llm_chain.run(question))"
   ]
  },
  {
   "cell_type": "markdown",
   "id": "1a5c97af-89bc-4e59-95c1-223742a9160b",
   "metadata": {},
   "source": [
    "### Dolly, by DataBricks\n",
    "\n",
    "See [DataBricks](https://huggingface.co/databricks) organization page for a list of available models."
   ]
  },
  {
   "cell_type": "code",
   "execution_count": null,
   "id": "521fcd2b-8e38-4920-b407-5c7d330411c9",
   "metadata": {},
   "outputs": [],
   "source": [
    "from langchain import HuggingFaceHub\n",
    "\n",
    "repo_id = \"databricks/dolly-v2-3b\"\n",
    "\n",
    "llm = HuggingFaceHub(repo_id=repo_id, model_kwargs={\"temperature\":0, \"max_length\":64})"
   ]
  },
  {
   "cell_type": "code",
   "execution_count": null,
   "id": "9907ec3a-fe0c-4543-81c4-d42f9453f16c",
   "metadata": {
    "tags": []
   },
   "outputs": [],
   "source": [
    "# Reuse the prompt and question from above.\n",
    "llm_chain = LLMChain(prompt=prompt, llm=llm)\n",
    "print(llm_chain.run(question))"
   ]
  },
  {
   "cell_type": "markdown",
   "id": "03f6ae52-b5f9-4de6-832c-551cb3fa11ae",
   "metadata": {},
   "source": [
    "### Camel, by Writer\n",
    "\n",
    "See [Writer's](https://huggingface.co/Writer) organization page for a list of available models."
   ]
  },
  {
   "cell_type": "code",
   "execution_count": null,
   "id": "257a091d-750b-4910-ac08-fe1c7b3fd98b",
   "metadata": {
    "tags": []
   },
   "outputs": [],
   "source": [
    "from langchain import HuggingFaceHub\n",
    "\n",
    "repo_id = \"Writer/camel-5b-hf\" # See https://huggingface.co/Writer for other options\n",
    "llm = HuggingFaceHub(repo_id=repo_id, model_kwargs={\"temperature\":0, \"max_length\":64})"
   ]
  },
  {
   "cell_type": "code",
   "execution_count": null,
   "id": "b06f6838-a11a-4d6a-88e3-91fa1747a2b3",
   "metadata": {},
   "outputs": [],
   "source": [
    "# Reuse the prompt and question from above.\n",
    "llm_chain = LLMChain(prompt=prompt, llm=llm)\n",
    "print(llm_chain.run(question))"
   ]
  },
  {
   "cell_type": "markdown",
   "id": "2bf838eb-1083-402f-b099-b07c452418c8",
   "metadata": {},
   "source": [
    "**And many more!**"
   ]
  },
  {
   "cell_type": "code",
   "execution_count": null,
   "id": "18c78880-65d7-41d0-9722-18090efb60e9",
   "metadata": {},
   "outputs": [],
   "source": []
  }
 ],
 "metadata": {
  "kernelspec": {
   "display_name": "Python 3 (ipykernel)",
   "language": "python",
   "name": "python3"
  },
  "language_info": {
   "codemirror_mode": {
    "name": "ipython",
    "version": 3
   },
   "file_extension": ".py",
   "mimetype": "text/x-python",
   "name": "python",
   "nbconvert_exporter": "python",
   "pygments_lexer": "ipython3",
   "version": "3.11.2"
  }
 },
 "nbformat": 4,
 "nbformat_minor": 5
}
